{
 "cells": [
  {
   "cell_type": "markdown",
   "metadata": {},
   "source": [
    "# Question 1: Create a numpy array starting from 2 till 50 with a stepsize of 3."
   ]
  },
  {
   "cell_type": "code",
   "execution_count": 11,
   "metadata": {},
   "outputs": [
    {
     "name": "stdout",
     "output_type": "stream",
     "text": [
      "[ 2  5  8 11 14 17 20 23 26 29 32 35 38 41 44 47 50]\n"
     ]
    }
   ],
   "source": [
    "import numpy as np\n",
    "arr = np.arange(2,51,3)\n",
    "print(arr)"
   ]
  },
  {
   "cell_type": "markdown",
   "metadata": {},
   "source": [
    "# Question 2:Accept two lists of 5 elements each from the user.\n",
    "# Convert them to numpy arrays. Concatenate these arrays and print it. Also sort these arrays and print it."
   ]
  },
  {
   "cell_type": "code",
   "execution_count": 21,
   "metadata": {},
   "outputs": [
    {
     "name": "stdout",
     "output_type": "stream",
     "text": [
      "33\n",
      "74\n",
      "98265\n",
      "95\n",
      "999\n",
      "1\n",
      "65555\n",
      "76\n",
      "543\n",
      "82\n",
      "Concatenate arrays:  [   33 98265   999 65555   543    74    95     1    76    82]\n",
      "Sorted array:  [    1    33    74    76    82    95   543   999 65555 98265]\n"
     ]
    }
   ],
   "source": [
    "import numpy as np\n",
    "list1 = []\n",
    "list2 = []\n",
    "n = 5\n",
    "for i in range(0,n):\n",
    "    ele = int(input( ))\n",
    "    eles = int(input( ))\n",
    "    list1.append(ele)\n",
    "    list2.append(eles)\n",
    "    \n",
    "arr1 = np.array(list1)\n",
    "arr2 = np.array(list2)\n",
    "concate_arr = np.concatenate((arr1, arr2))\n",
    "print(\"Concatenate arrays: \",concate_arr)\n",
    "sort_arr = np.sort(concate_arr)\n",
    "print(\"Sorted array: \",sort_arr)\n",
    "\n",
    "    "
   ]
  },
  {
   "cell_type": "markdown",
   "metadata": {},
   "source": [
    "# Question 3: Write a code snippet to find the dimensions of a ndarray and its size."
   ]
  },
  {
   "cell_type": "code",
   "execution_count": 30,
   "metadata": {},
   "outputs": [
    {
     "name": "stdout",
     "output_type": "stream",
     "text": [
      "[[1 2 3 4 5 5]\n",
      " [3 4 7 8 9 4]]\n",
      "2\n",
      "(2, 6)\n"
     ]
    }
   ],
   "source": [
    "import numpy as np\n",
    "arr = np.array([[1,2,3,4,5,5],[3,4,7,8,9,4]])\n",
    "print(arr)\n",
    "print(np.ndim(arr))\n",
    "print(np.shape(arr))"
   ]
  },
  {
   "cell_type": "markdown",
   "metadata": {},
   "source": [
    "# Question 4:"
   ]
  },
  {
   "cell_type": "code",
   "execution_count": 47,
   "metadata": {},
   "outputs": [
    {
     "name": "stdout",
     "output_type": "stream",
     "text": [
      "a =  [1 2 3 4 5 6]\n",
      "  \n",
      "Shape of a array is:  (6,)\n",
      "  \n",
      "a2= [[1]\n",
      " [2]\n",
      " [3]\n",
      " [4]\n",
      " [5]\n",
      " [6]]\n",
      "  \n",
      "Shape of a2 array is: (6, 1)\n"
     ]
    }
   ],
   "source": [
    "import numpy as np\n",
    "\n",
    "a = np.array([1, 2, 3, 4, 5, 6])\n",
    "\n",
    "print(\"a = \",a)\n",
    "print(\"  \")\n",
    "print(\"Shape of a array is: \", a.shape)\n",
    "print(\"  \")\n",
    "a2 = np.expand_dims(a, axis=1)\n",
    "\n",
    "print(\"a2=\",a2)\n",
    "print(\"  \")\n",
    "print(\"Shape of a2 array is:\",a2.shape)\n"
   ]
  },
  {
   "cell_type": "markdown",
   "metadata": {},
   "source": [
    "# Question 5:"
   ]
  },
  {
   "cell_type": "code",
   "execution_count": 53,
   "metadata": {},
   "outputs": [
    {
     "name": "stdout",
     "output_type": "stream",
     "text": [
      "arr1 =  [2 3 8 9 7]\n",
      " \n",
      "arr2 =  [ 1  5 10  4  6]\n",
      " \n",
      "square of arr1 =  [ 4  9 64 81 49]\n",
      " \n",
      "square of arr2 =  [  1  25 100  16  36]\n",
      " \n",
      "Stacking vertically =  [[  4   9  64  81  49]\n",
      " [  1  25 100  16  36]]\n",
      " \n",
      "Stacking Horizontally =  [  4   9  64  81  49   1  25 100  16  36]\n"
     ]
    }
   ],
   "source": [
    "import numpy as np\n",
    "\n",
    "arr1 = np.array([2, 3, 8, 9, 7])\n",
    "arr2 = np.array([1, 5, 10, 4, 6])\n",
    "print(\"arr1 = \", arr1)\n",
    "print(\" \")\n",
    "print(\"arr2 = \", arr2)\n",
    "print(\" \")\n",
    "\n",
    "squr_arr1 = np.square(arr1)\n",
    "squr_arr2 = np.square(arr2)\n",
    "print(\"square of arr1 = \",squr_arr1)\n",
    "print(\" \")\n",
    "print(\"square of arr2 = \",squr_arr2)\n",
    "print(\" \")\n",
    "\n",
    "\n",
    "\n",
    "# Vertical Stack\n",
    "\n",
    "vertical_stack = np.vstack((squr_arr1, squr_arr2))\n",
    "print(\"Stacking vertically = \",vertical_stack)\n",
    "print(\" \")\n",
    "\n",
    "# Horizontally Stack\n",
    "\n",
    "horizontal_stack = np.hstack((squr_arr1, squr_arr2))\n",
    "print(\"Stacking Horizontally = \", horizontal_stack)"
   ]
  },
  {
   "cell_type": "markdown",
   "metadata": {},
   "source": [
    "# Question 6:"
   ]
  },
  {
   "cell_type": "code",
   "execution_count": 69,
   "metadata": {},
   "outputs": [
    {
     "name": "stdout",
     "output_type": "stream",
     "text": [
      "arr =  [1 2 6 4 2 3 2]\n",
      " \n",
      "Unique values of arr array =  [1 2 3 4 6]\n",
      " \n",
      "Values of arr array are:  [1 2 3 4 6]\n",
      " \n",
      "Counts of arr array are:  [1 3 1 1 1]\n"
     ]
    }
   ],
   "source": [
    "import numpy as np\n",
    "arr = np.array([1, 2, 6, 4, 2, 3, 2])\n",
    "print(\"arr = \",arr)\n",
    "print(\" \")\n",
    "\n",
    "# To get the unique item from an array we use np.unique().\n",
    "uni = np.unique(arr)\n",
    "print(\"Unique values of arr array = \",uni)\n",
    "print(\" \")\n",
    "# to get the values and counts of unique array we use values, counts = np.unique(arr, return_counts=True)\n",
    "values, counts = np.unique(arr, return_counts=True)\n",
    "print(\"Values of arr array are: \",values)\n",
    "print(\" \")\n",
    "print(\"Counts of arr array are: \", counts)"
   ]
  },
  {
   "cell_type": "code",
   "execution_count": null,
   "metadata": {},
   "outputs": [],
   "source": []
  }
 ],
 "metadata": {
  "kernelspec": {
   "display_name": "Python 3",
   "language": "python",
   "name": "python3"
  },
  "language_info": {
   "codemirror_mode": {
    "name": "ipython",
    "version": 3
   },
   "file_extension": ".py",
   "mimetype": "text/x-python",
   "name": "python",
   "nbconvert_exporter": "python",
   "pygments_lexer": "ipython3",
   "version": "3.8.3"
  }
 },
 "nbformat": 4,
 "nbformat_minor": 4
}
